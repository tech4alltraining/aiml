{
 "cells": [
  {
   "cell_type": "markdown",
   "id": "04467174",
   "metadata": {},
   "source": [
    "# Python Worksheet: Scenario-Based Practice on Variables, Loops, Conditions, Lists, Sets, Tuples, Dictionaries, and Operators\n",
    "\n",
    "This worksheet includes five realistic problems covering:\n",
    "\n",
    "- Variables\n",
    "- Lists and basic list operations\n",
    "- Operators (arithmetic, comparison, logical, membership)\n",
    "- Loops (`for`, `while`)\n",
    "- If/Else Conditions\n",
    "- Sets\n",
    "- Tuples\n",
    "- Dictionaries\n",
    "\n",
    "Each problem contains a scenario and clear task instructions with a space to write your code.\n"
   ]
  },
  {
   "cell_type": "markdown",
   "id": "2f600e5b",
   "metadata": {},
   "source": [
    "## Problem 1: Student Score Analyzer\n",
    "\n",
    "**Scenario**: You are building a system to analyze students’ test scores."
   ]
  },
  {
   "cell_type": "markdown",
   "id": "eff65ead",
   "metadata": {},
   "source": [
    "### Task 1\n",
    "Create a dictionary to store student names and scores: `{\"Alice\": 85, \"Bob\": 78, \"Charlie\": 92, \"David\": 65}`"
   ]
  },
  {
   "cell_type": "code",
   "execution_count": null,
   "id": "9cbc464a",
   "metadata": {},
   "outputs": [],
   "source": [
    "# Write your code below"
   ]
  },
  {
   "cell_type": "markdown",
   "id": "07d0d913",
   "metadata": {},
   "source": [
    "### Task 2\n",
    "Use a for loop to print each student's name and score."
   ]
  },
  {
   "cell_type": "code",
   "execution_count": null,
   "id": "c8244cd1",
   "metadata": {},
   "outputs": [],
   "source": [
    "# Write your code below"
   ]
  },
  {
   "cell_type": "markdown",
   "id": "739b1ae4",
   "metadata": {},
   "source": [
    "### Task 3\n",
    "Use a list to extract all scores and calculate the average using arithmetic operators."
   ]
  },
  {
   "cell_type": "code",
   "execution_count": null,
   "id": "cf292e6f",
   "metadata": {},
   "outputs": [],
   "source": [
    "# Write your code below"
   ]
  },
  {
   "cell_type": "markdown",
   "id": "fc2c2fc3",
   "metadata": {},
   "source": [
    "### Task 4\n",
    "Use an if condition to print students who scored above average."
   ]
  },
  {
   "cell_type": "code",
   "execution_count": null,
   "id": "39659108",
   "metadata": {},
   "outputs": [],
   "source": [
    "# Write your code below"
   ]
  },
  {
   "cell_type": "markdown",
   "id": "0cc1cfb2",
   "metadata": {},
   "source": [
    "### Task 5\n",
    "Convert the list of student names to a set to check for uniqueness."
   ]
  },
  {
   "cell_type": "code",
   "execution_count": null,
   "id": "8885fe6d",
   "metadata": {},
   "outputs": [],
   "source": [
    "# Write your code below"
   ]
  },
  {
   "cell_type": "markdown",
   "id": "47cfc7ac",
   "metadata": {},
   "source": [
    "### Task 6\n",
    "Create a tuple of top 2 scorers' names and print it."
   ]
  },
  {
   "cell_type": "code",
   "execution_count": null,
   "id": "beb96a0a",
   "metadata": {},
   "outputs": [],
   "source": [
    "# Write your code below"
   ]
  },
  {
   "cell_type": "markdown",
   "id": "0dceef07",
   "metadata": {},
   "source": [
    "## Problem 2: Grocery Billing System\n",
    "\n",
    "**Scenario**: You are creating a grocery billing system that tracks prices and customer purchases."
   ]
  },
  {
   "cell_type": "markdown",
   "id": "e631c866",
   "metadata": {},
   "source": [
    "### Task 1\n",
    "Use a dictionary to store product prices: `{\"milk\": 45, \"bread\": 30, \"eggs\": 60, \"butter\": 80}`"
   ]
  },
  {
   "cell_type": "code",
   "execution_count": null,
   "id": "9266989a",
   "metadata": {},
   "outputs": [],
   "source": [
    "# Write your code below"
   ]
  },
  {
   "cell_type": "markdown",
   "id": "6504320c",
   "metadata": {},
   "source": [
    "### Task 2\n",
    "Create a list `cart = ['milk', 'eggs', 'bread', 'milk']` to represent items purchased."
   ]
  },
  {
   "cell_type": "code",
   "execution_count": null,
   "id": "982af10f",
   "metadata": {},
   "outputs": [],
   "source": [
    "# Write your code below"
   ]
  },
  {
   "cell_type": "markdown",
   "id": "017a3b41",
   "metadata": {},
   "source": [
    "### Task 3\n",
    "Use a loop and membership operator (`in`) to check each item in `cart` against the price list."
   ]
  },
  {
   "cell_type": "code",
   "execution_count": null,
   "id": "b8b11790",
   "metadata": {},
   "outputs": [],
   "source": [
    "# Write your code below"
   ]
  },
  {
   "cell_type": "markdown",
   "id": "c506aac3",
   "metadata": {},
   "source": [
    "### Task 4\n",
    "Calculate the total using arithmetic operators."
   ]
  },
  {
   "cell_type": "code",
   "execution_count": null,
   "id": "45d6c1f0",
   "metadata": {},
   "outputs": [],
   "source": [
    "# Write your code below"
   ]
  },
  {
   "cell_type": "markdown",
   "id": "0b109252",
   "metadata": {},
   "source": [
    "### Task 5\n",
    "Convert the list to a set to remove duplicates and print it."
   ]
  },
  {
   "cell_type": "code",
   "execution_count": null,
   "id": "17dd8f21",
   "metadata": {},
   "outputs": [],
   "source": [
    "# Write your code below"
   ]
  },
  {
   "cell_type": "markdown",
   "id": "88fcfa57",
   "metadata": {},
   "source": [
    "### Task 6\n",
    "Display the total bill and unique products purchased as a tuple."
   ]
  },
  {
   "cell_type": "code",
   "execution_count": null,
   "id": "cca3ff7b",
   "metadata": {},
   "outputs": [],
   "source": [
    "# Write your code below"
   ]
  },
  {
   "cell_type": "markdown",
   "id": "ab0c449e",
   "metadata": {},
   "source": [
    "## Problem 3: Online Course Tracker\n",
    "\n",
    "**Scenario**: An ed-tech platform tracks which courses users have completed."
   ]
  },
  {
   "cell_type": "markdown",
   "id": "10ed9c5a",
   "metadata": {},
   "source": [
    "### Task 1\n",
    "Create a dictionary: `{\"Alice\": [\"Python\", \"AI\"], \"Bob\": [\"Python\"], \"Charlie\": [\"AI\", \"DS\"]}`"
   ]
  },
  {
   "cell_type": "code",
   "execution_count": null,
   "id": "3540e536",
   "metadata": {},
   "outputs": [],
   "source": [
    "# Write your code below"
   ]
  },
  {
   "cell_type": "markdown",
   "id": "8e71f506",
   "metadata": {},
   "source": [
    "### Task 2\n",
    "Use a for loop to display how many courses each user has completed."
   ]
  },
  {
   "cell_type": "code",
   "execution_count": null,
   "id": "9aeac560",
   "metadata": {},
   "outputs": [],
   "source": [
    "# Write your code below"
   ]
  },
  {
   "cell_type": "markdown",
   "id": "e9d13488",
   "metadata": {},
   "source": [
    "### Task 3\n",
    "Print only users who completed more than one course using conditional operators."
   ]
  },
  {
   "cell_type": "code",
   "execution_count": null,
   "id": "0433e1ac",
   "metadata": {},
   "outputs": [],
   "source": [
    "# Write your code below"
   ]
  },
  {
   "cell_type": "markdown",
   "id": "a135c692",
   "metadata": {},
   "source": [
    "### Task 4\n",
    "Create a set of all unique courses offered."
   ]
  },
  {
   "cell_type": "code",
   "execution_count": null,
   "id": "0bf71e9a",
   "metadata": {},
   "outputs": [],
   "source": [
    "# Write your code below"
   ]
  },
  {
   "cell_type": "markdown",
   "id": "a92b135c",
   "metadata": {},
   "source": [
    "### Task 5\n",
    "Use list operations to sort and reverse the course list for each user."
   ]
  },
  {
   "cell_type": "code",
   "execution_count": null,
   "id": "dc153bb3",
   "metadata": {},
   "outputs": [],
   "source": [
    "# Write your code below"
   ]
  },
  {
   "cell_type": "markdown",
   "id": "2d918910",
   "metadata": {},
   "source": [
    "### Task 6\n",
    "Display each user's course list as a tuple."
   ]
  },
  {
   "cell_type": "code",
   "execution_count": null,
   "id": "70dff828",
   "metadata": {},
   "outputs": [],
   "source": [
    "# Write your code below"
   ]
  },
  {
   "cell_type": "markdown",
   "id": "2b352330",
   "metadata": {},
   "source": [
    "## Problem 4: Task Time Estimator\n",
    "\n",
    "**Scenario**: You want to track your daily tasks and time needed for each."
   ]
  },
  {
   "cell_type": "markdown",
   "id": "5c6ee650",
   "metadata": {},
   "source": [
    "### Task 1\n",
    "Create a list of tasks: `['email', 'meeting', 'code review', 'design']` and a corresponding dictionary with time estimates."
   ]
  },
  {
   "cell_type": "code",
   "execution_count": null,
   "id": "caa3c7cc",
   "metadata": {},
   "outputs": [],
   "source": [
    "# Write your code below"
   ]
  },
  {
   "cell_type": "markdown",
   "id": "ff6fa44b",
   "metadata": {},
   "source": [
    "### Task 2\n",
    "Use a loop to calculate total time."
   ]
  },
  {
   "cell_type": "code",
   "execution_count": null,
   "id": "c599fc8f",
   "metadata": {},
   "outputs": [],
   "source": [
    "# Write your code below"
   ]
  },
  {
   "cell_type": "markdown",
   "id": "fa87a45e",
   "metadata": {},
   "source": [
    "### Task 3\n",
    "Use a comparison operator to find tasks that take more than 30 minutes."
   ]
  },
  {
   "cell_type": "code",
   "execution_count": null,
   "id": "13c469be",
   "metadata": {},
   "outputs": [],
   "source": [
    "# Write your code below"
   ]
  },
  {
   "cell_type": "markdown",
   "id": "8a82fe45",
   "metadata": {},
   "source": [
    "### Task 4\n",
    "Store task names in a set to ensure no duplicates."
   ]
  },
  {
   "cell_type": "code",
   "execution_count": null,
   "id": "f27fe16b",
   "metadata": {},
   "outputs": [],
   "source": [
    "# Write your code below"
   ]
  },
  {
   "cell_type": "markdown",
   "id": "f7519a7e",
   "metadata": {},
   "source": [
    "### Task 5\n",
    "Convert the task list into a tuple and print it."
   ]
  },
  {
   "cell_type": "code",
   "execution_count": null,
   "id": "41e1c4f5",
   "metadata": {},
   "outputs": [],
   "source": [
    "# Write your code below"
   ]
  },
  {
   "cell_type": "markdown",
   "id": "f35bcfae",
   "metadata": {},
   "source": [
    "### Task 6\n",
    "Use logical operators (`and`, `or`) to check conditions like task name and duration."
   ]
  },
  {
   "cell_type": "code",
   "execution_count": null,
   "id": "5739b6a4",
   "metadata": {},
   "outputs": [],
   "source": [
    "# Write your code below"
   ]
  },
  {
   "cell_type": "markdown",
   "id": "7014f6e8",
   "metadata": {},
   "source": [
    "## Problem 5: Event Attendance Checker\n",
    "\n",
    "**Scenario**: An event organizer wants to compare registration vs attendance data."
   ]
  },
  {
   "cell_type": "markdown",
   "id": "c0e5372e",
   "metadata": {},
   "source": [
    "### Task 1\n",
    "Store registered users in a set: `{\"Alice\", \"Bob\", \"Charlie\", \"David\"}` and attendees in a list: `[\"Alice\", \"Charlie\", \"Eve\"]`"
   ]
  },
  {
   "cell_type": "code",
   "execution_count": null,
   "id": "c9d8f708",
   "metadata": {},
   "outputs": [],
   "source": [
    "# Write your code below"
   ]
  },
  {
   "cell_type": "markdown",
   "id": "c1a0cbd3",
   "metadata": {},
   "source": [
    "### Task 2\n",
    "Use a loop with `if` and `not in` to find attendees who were not registered."
   ]
  },
  {
   "cell_type": "code",
   "execution_count": null,
   "id": "c3d8a286",
   "metadata": {},
   "outputs": [],
   "source": [
    "# Write your code below"
   ]
  },
  {
   "cell_type": "markdown",
   "id": "e8a9b231",
   "metadata": {},
   "source": [
    "### Task 3\n",
    "Create a dictionary with user names and values set to `'attended': True/False` based on attendance."
   ]
  },
  {
   "cell_type": "code",
   "execution_count": null,
   "id": "4f021907",
   "metadata": {},
   "outputs": [],
   "source": [
    "# Write your code below"
   ]
  },
  {
   "cell_type": "markdown",
   "id": "d7783480",
   "metadata": {},
   "source": [
    "### Task 4\n",
    "Use list operations to count how many people actually attended."
   ]
  },
  {
   "cell_type": "code",
   "execution_count": null,
   "id": "10103435",
   "metadata": {},
   "outputs": [],
   "source": [
    "# Write your code below"
   ]
  },
  {
   "cell_type": "markdown",
   "id": "c315da9c",
   "metadata": {},
   "source": [
    "### Task 5\n",
    "Print names of those who registered and attended using a tuple."
   ]
  },
  {
   "cell_type": "code",
   "execution_count": null,
   "id": "e9aa9db0",
   "metadata": {},
   "outputs": [],
   "source": [
    "# Write your code below"
   ]
  },
  {
   "cell_type": "markdown",
   "id": "3331b634",
   "metadata": {},
   "source": [
    "### Task 6\n",
    "Use comparison operators to compare registration and attendance numbers."
   ]
  },
  {
   "cell_type": "code",
   "execution_count": null,
   "id": "4386604c",
   "metadata": {},
   "outputs": [],
   "source": [
    "# Write your code below"
   ]
  }
 ],
 "metadata": {},
 "nbformat": 4,
 "nbformat_minor": 5
}
