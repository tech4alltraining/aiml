{
 "cells": [
  {
   "cell_type": "markdown",
   "id": "0ebcaed2",
   "metadata": {},
   "source": [
    "# Python Worksheet: Program Flow Control (IF Conditions with User Input)\n",
    "\n",
    "This worksheet includes 20 problems to help you practice Python program flow control using:\n",
    "\n",
    "- `if`, `elif`, `else` statements\n",
    "- Boolean expressions and conditions\n",
    "- User input via `input()` function\n",
    "\n",
    "Some problems use predefined values, while others ask for input from the user.\n"
   ]
  },
  {
   "cell_type": "markdown",
   "id": "40626f26",
   "metadata": {},
   "source": [
    "## 1. Check Even or Odd\n",
    "\n",
    "**Input Code:**\n",
    "```python\n",
    "x = int(input('Enter a number: '))\n",
    "```\n",
    "**Task**: Check if the number is even or odd."
   ]
  },
  {
   "cell_type": "code",
   "execution_count": null,
   "id": "c01ca49b",
   "metadata": {},
   "outputs": [],
   "source": [
    "# x = int(input('Enter a number: '))\n",
    "# Write your code below"
   ]
  },
  {
   "cell_type": "markdown",
   "id": "b7292d94",
   "metadata": {},
   "source": [
    "## 2. Check Positive Number\n",
    "\n",
    "**Input Code:**\n",
    "```python\n",
    "x = int(input('Enter a number: '))\n",
    "```\n",
    "**Task**: Check if it is a positive number."
   ]
  },
  {
   "cell_type": "code",
   "execution_count": null,
   "id": "ea3c35e6",
   "metadata": {},
   "outputs": [],
   "source": [
    "# x = int(input('Enter a number: '))\n",
    "# Write your code below"
   ]
  },
  {
   "cell_type": "markdown",
   "id": "7fc3d058",
   "metadata": {},
   "source": [
    "## 3. Find Largest of Two Numbers\n",
    "\n",
    "**Input Code:**\n",
    "```python\n",
    "a = int(input('Enter first number: '))\n",
    "b = int(input('Enter second number: '))\n",
    "```\n",
    "**Task**: Print the larger number."
   ]
  },
  {
   "cell_type": "code",
   "execution_count": null,
   "id": "378b2b47",
   "metadata": {},
   "outputs": [],
   "source": [
    "# a = int(input('Enter first number: '))\n",
    "b = int(input('Enter second number: '))\n",
    "# Write your code below"
   ]
  },
  {
   "cell_type": "markdown",
   "id": "4767ebf9",
   "metadata": {},
   "source": [
    "## 4. Check if Number is Zero\n",
    "\n",
    "**Input Code:**\n",
    "```python\n",
    "num = 0\n",
    "```\n",
    "**Task**: Check if the number is zero."
   ]
  },
  {
   "cell_type": "code",
   "execution_count": null,
   "id": "99a07f6c",
   "metadata": {},
   "outputs": [],
   "source": [
    "# num = 0\n",
    "# Write your code below"
   ]
  },
  {
   "cell_type": "markdown",
   "id": "883a5bdc",
   "metadata": {},
   "source": [
    "## 5. Temperature Check\n",
    "\n",
    "**Input Code:**\n",
    "```python\n",
    "temp = int(input('Enter temperature: '))\n",
    "```\n",
    "**Task**: Check if the temperature is hot (above 30)."
   ]
  },
  {
   "cell_type": "code",
   "execution_count": null,
   "id": "9570a3ee",
   "metadata": {},
   "outputs": [],
   "source": [
    "# temp = int(input('Enter temperature: '))\n",
    "# Write your code below"
   ]
  },
  {
   "cell_type": "markdown",
   "id": "38e6e1bb",
   "metadata": {},
   "source": [
    "## 6. Check Divisible by 5\n",
    "\n",
    "**Input Code:**\n",
    "```python\n",
    "n = 45\n",
    "```\n",
    "**Task**: Check if the number is divisible by 5."
   ]
  },
  {
   "cell_type": "code",
   "execution_count": null,
   "id": "2edcb2fe",
   "metadata": {},
   "outputs": [],
   "source": [
    "# n = 45\n",
    "# Write your code below"
   ]
  },
  {
   "cell_type": "markdown",
   "id": "a896fa30",
   "metadata": {},
   "source": [
    "## 7. Simple Login Check\n",
    "\n",
    "**Input Code:**\n",
    "```python\n",
    "username = input('Enter username: ')\n",
    "```\n",
    "**Task**: Check if the username matches 'admin'."
   ]
  },
  {
   "cell_type": "code",
   "execution_count": null,
   "id": "83d94c16",
   "metadata": {},
   "outputs": [],
   "source": [
    "# username = input('Enter username: ')\n",
    "# Write your code below"
   ]
  },
  {
   "cell_type": "markdown",
   "id": "4dc22cc5",
   "metadata": {},
   "source": [
    "## 8. Check Grade Pass or Fail\n",
    "\n",
    "**Input Code:**\n",
    "```python\n",
    "marks = 42\n",
    "```\n",
    "**Task**: Check if the marks are pass (>= 35)."
   ]
  },
  {
   "cell_type": "code",
   "execution_count": null,
   "id": "86389625",
   "metadata": {},
   "outputs": [],
   "source": [
    "# marks = 42\n",
    "# Write your code below"
   ]
  },
  {
   "cell_type": "markdown",
   "id": "69b6b06d",
   "metadata": {},
   "source": [
    "## 9. Check Voting Age\n",
    "\n",
    "**Input Code:**\n",
    "```python\n",
    "age = int(input('Enter age: '))\n",
    "```\n",
    "**Task**: Check if the person is eligible to vote (>= 18)."
   ]
  },
  {
   "cell_type": "code",
   "execution_count": null,
   "id": "945b036d",
   "metadata": {},
   "outputs": [],
   "source": [
    "# age = int(input('Enter age: '))\n",
    "# Write your code below"
   ]
  },
  {
   "cell_type": "markdown",
   "id": "2e221c7c",
   "metadata": {},
   "source": [
    "## 10. Check if Character is a Vowel\n",
    "\n",
    "**Input Code:**\n",
    "```python\n",
    "ch = input('Enter a single character: ')\n",
    "```\n",
    "**Task**: Check if the character is a vowel."
   ]
  },
  {
   "cell_type": "code",
   "execution_count": null,
   "id": "dfca6360",
   "metadata": {},
   "outputs": [],
   "source": [
    "# ch = input('Enter a single character: ')\n",
    "# Write your code below"
   ]
  },
  {
   "cell_type": "markdown",
   "id": "8e7d8154",
   "metadata": {},
   "source": [
    "## 🔹 Part B: Scenario-Based IF Conditions (Q11–Q20)\n",
    "These are real-world problems involving conditional logic and boolean expressions."
   ]
  },
  {
   "cell_type": "markdown",
   "id": "3eb10366",
   "metadata": {},
   "source": [
    "## 11. Age-Based Voting Eligibility\n",
    "\n",
    "**Input Code:**\n",
    "```python\n",
    "age = int(input('Enter your age: '))\n",
    "```\n",
    "**Task**: Check if the person can vote (>=18)."
   ]
  },
  {
   "cell_type": "code",
   "execution_count": null,
   "id": "4abdebf1",
   "metadata": {},
   "outputs": [],
   "source": [
    "# age = int(input('Enter your age: '))\n",
    "# Write your code below"
   ]
  },
  {
   "cell_type": "markdown",
   "id": "9c72ebce",
   "metadata": {},
   "source": [
    "## 12. Grade Categorizer\n",
    "\n",
    "**Input Code:**\n",
    "```python\n",
    "marks = int(input('Enter your marks: '))\n",
    "```\n",
    "**Task**: Categorize: 'Excellent' (90+), 'Good' (75–89), or 'Needs Improvement'."
   ]
  },
  {
   "cell_type": "code",
   "execution_count": null,
   "id": "32f0c98b",
   "metadata": {},
   "outputs": [],
   "source": [
    "# marks = int(input('Enter your marks: '))\n",
    "# Write your code below"
   ]
  },
  {
   "cell_type": "markdown",
   "id": "08659809",
   "metadata": {},
   "source": [
    "## 13. Check Membership in List\n",
    "\n",
    "**Input Code:**\n",
    "```python\n",
    "admins = ['alice', 'bob']\n",
    "name = input('Enter your name: ')\n",
    "```\n",
    "**Task**: Check if the entered name is in the admin list."
   ]
  },
  {
   "cell_type": "code",
   "execution_count": null,
   "id": "c7ad062c",
   "metadata": {},
   "outputs": [],
   "source": [
    "# admins = ['alice', 'bob']\n",
    "name = input('Enter your name: ')\n",
    "# Write your code below"
   ]
  },
  {
   "cell_type": "markdown",
   "id": "13aeea6b",
   "metadata": {},
   "source": [
    "## 14. Validate Password Strength\n",
    "\n",
    "**Input Code:**\n",
    "```python\n",
    "password = input('Enter your password: ')\n",
    "```\n",
    "**Task**: Check if it contains 'secure' and is longer than 8."
   ]
  },
  {
   "cell_type": "code",
   "execution_count": null,
   "id": "5260f4b9",
   "metadata": {},
   "outputs": [],
   "source": [
    "# password = input('Enter your password: ')\n",
    "# Write your code below"
   ]
  },
  {
   "cell_type": "markdown",
   "id": "7649a0cb",
   "metadata": {},
   "source": [
    "## 15. Discount Eligibility Checker\n",
    "\n",
    "**Input Code:**\n",
    "```python\n",
    "member = input('Are you a member? (yes/no): ') == 'yes'\n",
    "coupon = input('Do you have a coupon? (yes/no): ') == 'yes'\n",
    "```\n",
    "**Task**: Check if the user is eligible for a discount."
   ]
  },
  {
   "cell_type": "code",
   "execution_count": null,
   "id": "1bf99f8a",
   "metadata": {},
   "outputs": [],
   "source": [
    "# member = input('Are you a member? (yes/no): ') == 'yes'\n",
    "coupon = input('Do you have a coupon? (yes/no): ') == 'yes'\n",
    "# Write your code below"
   ]
  },
  {
   "cell_type": "markdown",
   "id": "680af208",
   "metadata": {},
   "source": [
    "## 16. Weekend or Weekday\n",
    "\n",
    "**Input Code:**\n",
    "```python\n",
    "day = input('Enter the day: ')\n",
    "```\n",
    "**Task**: Check if it’s a weekend (Saturday or Sunday)."
   ]
  },
  {
   "cell_type": "code",
   "execution_count": null,
   "id": "c4853f9e",
   "metadata": {},
   "outputs": [],
   "source": [
    "# day = input('Enter the day: ')\n",
    "# Write your code below"
   ]
  },
  {
   "cell_type": "markdown",
   "id": "a1f46597",
   "metadata": {},
   "source": [
    "## 17. Admission Decision Based on Score\n",
    "\n",
    "**Input Code:**\n",
    "```python\n",
    "score = int(input('Enter your score: '))\n",
    "```\n",
    "**Task**: Admit only if score is >= 70."
   ]
  },
  {
   "cell_type": "code",
   "execution_count": null,
   "id": "d262e1f1",
   "metadata": {},
   "outputs": [],
   "source": [
    "# score = int(input('Enter your score: '))\n",
    "# Write your code below"
   ]
  },
  {
   "cell_type": "markdown",
   "id": "bc081049",
   "metadata": {},
   "source": [
    "## 18. Temperature Warning System\n",
    "\n",
    "**Input Code:**\n",
    "```python\n",
    "temperature = int(input('Enter the temperature: '))\n",
    "```\n",
    "**Task**: Print warning if temperature exceeds 40."
   ]
  },
  {
   "cell_type": "code",
   "execution_count": null,
   "id": "cd61cefd",
   "metadata": {},
   "outputs": [],
   "source": [
    "# temperature = int(input('Enter the temperature: '))\n",
    "# Write your code below"
   ]
  },
  {
   "cell_type": "markdown",
   "id": "009515ca",
   "metadata": {},
   "source": [
    "## 19. Library Membership Check\n",
    "\n",
    "**Input Code:**\n",
    "```python\n",
    "user = input('Enter your username: ')\n",
    "blacklist = ['john', 'mark']\n",
    "```\n",
    "**Task**: Print message only if user is not in blacklist."
   ]
  },
  {
   "cell_type": "code",
   "execution_count": null,
   "id": "e09cc696",
   "metadata": {},
   "outputs": [],
   "source": [
    "# user = input('Enter your username: ')\n",
    "blacklist = ['john', 'mark']\n",
    "# Write your code below"
   ]
  },
  {
   "cell_type": "markdown",
   "id": "fd9257c9",
   "metadata": {},
   "source": [
    "## 20. Check Multiple Conditions\n",
    "\n",
    "**Input Code:**\n",
    "```python\n",
    "verified = input('Are you verified? (yes/no): ') == 'yes'\n",
    "password_correct = input('Is your password correct? (yes/no): ') == 'yes'\n",
    "```\n",
    "**Task**: Grant access only if both conditions are True."
   ]
  },
  {
   "cell_type": "code",
   "execution_count": null,
   "id": "e6d62275",
   "metadata": {},
   "outputs": [],
   "source": [
    "# verified = input('Are you verified? (yes/no): ') == 'yes'\n",
    "password_correct = input('Is your password correct? (yes/no): ') == 'yes'\n",
    "# Write your code below"
   ]
  }
 ],
 "metadata": {},
 "nbformat": 4,
 "nbformat_minor": 5
}
