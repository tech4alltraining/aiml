{
 "cells": [
  {
   "cell_type": "markdown",
   "id": "b661dfcc",
   "metadata": {},
   "source": [
    "## Problem 1: Student Information System\n",
    "\n",
    "**Scenario**: You are developing a student information manager for a school database."
   ]
  },
  {
   "cell_type": "code",
   "execution_count": null,
   "id": "791df4ad",
   "metadata": {},
   "outputs": [],
   "source": [
    "# Initial data\n",
    "students = [\"Alice\", \"Bob\", \"Charlie\", \"David\", \"Eva\"]"
   ]
  },
  {
   "cell_type": "markdown",
   "id": "7424d2b9",
   "metadata": {},
   "source": [
    "### Task 1\n",
    "Print the full list of students."
   ]
  },
  {
   "cell_type": "code",
   "execution_count": null,
   "id": "cd3ed2eb",
   "metadata": {},
   "outputs": [],
   "source": [
    "# Write your code below"
   ]
  },
  {
   "cell_type": "markdown",
   "id": "836a4116",
   "metadata": {},
   "source": [
    "### Task 2\n",
    "Print the type of the `students` object."
   ]
  },
  {
   "cell_type": "code",
   "execution_count": null,
   "id": "76aae58d",
   "metadata": {},
   "outputs": [],
   "source": [
    "# Write your code below"
   ]
  },
  {
   "cell_type": "markdown",
   "id": "4770e61c",
   "metadata": {},
   "source": [
    "### Task 3\n",
    "Access and print the first student."
   ]
  },
  {
   "cell_type": "code",
   "execution_count": null,
   "id": "7a3e817f",
   "metadata": {},
   "outputs": [],
   "source": [
    "# Write your code below"
   ]
  },
  {
   "cell_type": "markdown",
   "id": "37160aec",
   "metadata": {},
   "source": [
    "### Task 4\n",
    "Access and print students from index 1 to 3."
   ]
  },
  {
   "cell_type": "code",
   "execution_count": null,
   "id": "9a4db888",
   "metadata": {},
   "outputs": [],
   "source": [
    "# Write your code below"
   ]
  },
  {
   "cell_type": "markdown",
   "id": "fc4ff7dd",
   "metadata": {},
   "source": [
    "### Task 5\n",
    "Check if `\"Charlie\"` exists in the list."
   ]
  },
  {
   "cell_type": "code",
   "execution_count": null,
   "id": "de17228f",
   "metadata": {},
   "outputs": [],
   "source": [
    "# Write your code below"
   ]
  },
  {
   "cell_type": "markdown",
   "id": "472cdb47",
   "metadata": {},
   "source": [
    "### Task 6\n",
    "Change `\"Eva\"` to `\"Evelyn\"`."
   ]
  },
  {
   "cell_type": "code",
   "execution_count": null,
   "id": "5354a63b",
   "metadata": {},
   "outputs": [],
   "source": [
    "# Write your code below"
   ]
  },
  {
   "cell_type": "markdown",
   "id": "de0487f3",
   "metadata": {},
   "source": [
    "### Task 7\n",
    "Change `[\"Bob\", \"Charlie\"]` to `[\"Brian\", \"Cathy\"]` using slicing."
   ]
  },
  {
   "cell_type": "code",
   "execution_count": null,
   "id": "7e9ac87d",
   "metadata": {},
   "outputs": [],
   "source": [
    "# Write your code below"
   ]
  },
  {
   "cell_type": "markdown",
   "id": "aa663e69",
   "metadata": {},
   "source": [
    "### Task 8\n",
    "Append a new student `\"Frank\"` to the list."
   ]
  },
  {
   "cell_type": "code",
   "execution_count": null,
   "id": "725c9699",
   "metadata": {},
   "outputs": [],
   "source": [
    "# Write your code below"
   ]
  },
  {
   "cell_type": "markdown",
   "id": "afb7ca5c",
   "metadata": {},
   "source": [
    "### Task 9\n",
    "Insert `\"Grace\"` at index 2."
   ]
  },
  {
   "cell_type": "code",
   "execution_count": null,
   "id": "a21293b7",
   "metadata": {},
   "outputs": [],
   "source": [
    "# Write your code below"
   ]
  },
  {
   "cell_type": "markdown",
   "id": "787e380b",
   "metadata": {},
   "source": [
    "### Task 10\n",
    "Extend the list with `[\"Helen\", \"Ian\"]`."
   ]
  },
  {
   "cell_type": "code",
   "execution_count": null,
   "id": "6d36b1ed",
   "metadata": {},
   "outputs": [],
   "source": [
    "# Write your code below"
   ]
  },
  {
   "cell_type": "markdown",
   "id": "704e284e",
   "metadata": {},
   "source": [
    "### Task 11\n",
    "Remove the student `\"Brian\"`."
   ]
  },
  {
   "cell_type": "code",
   "execution_count": null,
   "id": "c4de5f6d",
   "metadata": {},
   "outputs": [],
   "source": [
    "# Write your code below"
   ]
  },
  {
   "cell_type": "markdown",
   "id": "dadc68a2",
   "metadata": {},
   "source": [
    "### Task 12\n",
    "Remove the student at index 0 using `pop()`."
   ]
  },
  {
   "cell_type": "code",
   "execution_count": null,
   "id": "774f3b43",
   "metadata": {},
   "outputs": [],
   "source": [
    "# Write your code below"
   ]
  },
  {
   "cell_type": "markdown",
   "id": "48fb0618",
   "metadata": {},
   "source": [
    "### Task 13\n",
    "Remove `\"Cathy\"` using the `del` keyword."
   ]
  },
  {
   "cell_type": "code",
   "execution_count": null,
   "id": "da99f993",
   "metadata": {},
   "outputs": [],
   "source": [
    "# Write your code below"
   ]
  },
  {
   "cell_type": "markdown",
   "id": "df879967",
   "metadata": {},
   "source": [
    "### Task 14\n",
    "Clear the student list at the end of the year."
   ]
  },
  {
   "cell_type": "code",
   "execution_count": null,
   "id": "b47acdae",
   "metadata": {},
   "outputs": [],
   "source": [
    "# Write your code below"
   ]
  },
  {
   "cell_type": "markdown",
   "id": "203ebdbb",
   "metadata": {},
   "source": [
    "### Task 15\n",
    "Recreate the list and loop through it using a `for` loop to print each name."
   ]
  },
  {
   "cell_type": "code",
   "execution_count": null,
   "id": "7b36ac77",
   "metadata": {},
   "outputs": [],
   "source": [
    "# Write your code below"
   ]
  },
  {
   "cell_type": "markdown",
   "id": "3565d2b1",
   "metadata": {},
   "source": [
    "### Task 16\n",
    "Loop using `for` and `range()` to print student index and name."
   ]
  },
  {
   "cell_type": "code",
   "execution_count": null,
   "id": "4c26d70c",
   "metadata": {},
   "outputs": [],
   "source": [
    "# Write your code below"
   ]
  },
  {
   "cell_type": "markdown",
   "id": "99c2abc5",
   "metadata": {},
   "source": [
    "### Task 17\n",
    "Use list comprehension to create a new list with names in uppercase."
   ]
  },
  {
   "cell_type": "code",
   "execution_count": null,
   "id": "3f206e7c",
   "metadata": {},
   "outputs": [],
   "source": [
    "# Write your code below"
   ]
  },
  {
   "cell_type": "markdown",
   "id": "e8a018c8",
   "metadata": {},
   "source": [
    "### Task 18\n",
    "Sort the list alphabetically."
   ]
  },
  {
   "cell_type": "code",
   "execution_count": null,
   "id": "a81a7a5d",
   "metadata": {},
   "outputs": [],
   "source": [
    "# Write your code below"
   ]
  },
  {
   "cell_type": "markdown",
   "id": "5fdbe7ea",
   "metadata": {},
   "source": [
    "### Task 19\n",
    "Sort the list in reverse (descending) order."
   ]
  },
  {
   "cell_type": "code",
   "execution_count": null,
   "id": "70322406",
   "metadata": {},
   "outputs": [],
   "source": [
    "# Write your code below"
   ]
  },
  {
   "cell_type": "markdown",
   "id": "f4ba81ef",
   "metadata": {},
   "source": [
    "### Task 20\n",
    "Reverse the order of the list."
   ]
  },
  {
   "cell_type": "code",
   "execution_count": null,
   "id": "c16957f2",
   "metadata": {},
   "outputs": [],
   "source": [
    "# Write your code below"
   ]
  },
  {
   "cell_type": "markdown",
   "id": "18cd5b44",
   "metadata": {},
   "source": [
    "### Task 21\n",
    "Make a copy of the list and modify the original."
   ]
  },
  {
   "cell_type": "code",
   "execution_count": null,
   "id": "e7fa5592",
   "metadata": {},
   "outputs": [],
   "source": [
    "# Write your code below"
   ]
  },
  {
   "cell_type": "markdown",
   "id": "3f085bb3",
   "metadata": {},
   "source": [
    "### Task 22\n",
    "Join the list with another list: `[\"Jack\", \"Kara\"]`."
   ]
  },
  {
   "cell_type": "code",
   "execution_count": null,
   "id": "b3572ae7",
   "metadata": {},
   "outputs": [],
   "source": [
    "# Write your code below"
   ]
  },
  {
   "cell_type": "markdown",
   "id": "6f6672f1",
   "metadata": {},
   "source": [
    "## Problem 2: Grocery Store Inventory\n",
    "\n",
    "**Scenario**: You are building an inventory system for a grocery store."
   ]
  },
  {
   "cell_type": "code",
   "execution_count": null,
   "id": "d9a55bb8",
   "metadata": {},
   "outputs": [],
   "source": [
    "# Initial data\n",
    "inventory = [\"milk\", \"bread\", \"butter\", \"cheese\", \"eggs\"]"
   ]
  },
  {
   "cell_type": "markdown",
   "id": "435b5376",
   "metadata": {},
   "source": [
    "### Task 1\n",
    "Print the inventory list and its type."
   ]
  },
  {
   "cell_type": "code",
   "execution_count": null,
   "id": "2b89309f",
   "metadata": {},
   "outputs": [],
   "source": [
    "# Write your code below"
   ]
  },
  {
   "cell_type": "markdown",
   "id": "407010b1",
   "metadata": {},
   "source": [
    "### Task 2\n",
    "Access the first item."
   ]
  },
  {
   "cell_type": "code",
   "execution_count": null,
   "id": "e2f809f9",
   "metadata": {},
   "outputs": [],
   "source": [
    "# Write your code below"
   ]
  },
  {
   "cell_type": "markdown",
   "id": "1137e400",
   "metadata": {},
   "source": [
    "### Task 3\n",
    "Access items from index 2 to 4."
   ]
  },
  {
   "cell_type": "code",
   "execution_count": null,
   "id": "b3a7010e",
   "metadata": {},
   "outputs": [],
   "source": [
    "# Write your code below"
   ]
  },
  {
   "cell_type": "markdown",
   "id": "e39218a7",
   "metadata": {},
   "source": [
    "### Task 4\n",
    "Check if `\"bread\"` is in inventory."
   ]
  },
  {
   "cell_type": "code",
   "execution_count": null,
   "id": "bc1dc981",
   "metadata": {},
   "outputs": [],
   "source": [
    "# Write your code below"
   ]
  },
  {
   "cell_type": "markdown",
   "id": "8a802133",
   "metadata": {},
   "source": [
    "### Task 5\n",
    "Replace `\"butter\"` with `\"jam\"`."
   ]
  },
  {
   "cell_type": "code",
   "execution_count": null,
   "id": "11a5a20d",
   "metadata": {},
   "outputs": [],
   "source": [
    "# Write your code below"
   ]
  },
  {
   "cell_type": "markdown",
   "id": "6b39d90a",
   "metadata": {},
   "source": [
    "### Task 6\n",
    "Replace `[\"cheese\", \"eggs\"]` with `[\"yogurt\", \"paneer\"]`."
   ]
  },
  {
   "cell_type": "code",
   "execution_count": null,
   "id": "160b700f",
   "metadata": {},
   "outputs": [],
   "source": [
    "# Write your code below"
   ]
  },
  {
   "cell_type": "markdown",
   "id": "58fefab2",
   "metadata": {},
   "source": [
    "### Task 7\n",
    "Append `\"honey\"`."
   ]
  },
  {
   "cell_type": "code",
   "execution_count": null,
   "id": "6e0806fc",
   "metadata": {},
   "outputs": [],
   "source": [
    "# Write your code below"
   ]
  },
  {
   "cell_type": "markdown",
   "id": "c447b7b6",
   "metadata": {},
   "source": [
    "### Task 8\n",
    "Insert `\"coffee\"` at index 1."
   ]
  },
  {
   "cell_type": "code",
   "execution_count": null,
   "id": "b3147229",
   "metadata": {},
   "outputs": [],
   "source": [
    "# Write your code below"
   ]
  },
  {
   "cell_type": "markdown",
   "id": "1d9bc25c",
   "metadata": {},
   "source": [
    "### Task 9\n",
    "Extend with `[\"tea\", \"sugar\"]`."
   ]
  },
  {
   "cell_type": "code",
   "execution_count": null,
   "id": "c39d824d",
   "metadata": {},
   "outputs": [],
   "source": [
    "# Write your code below"
   ]
  },
  {
   "cell_type": "markdown",
   "id": "be3e6b17",
   "metadata": {},
   "source": [
    "### Task 10\n",
    "Remove `\"bread\"`."
   ]
  },
  {
   "cell_type": "code",
   "execution_count": null,
   "id": "37f20825",
   "metadata": {},
   "outputs": [],
   "source": [
    "# Write your code below"
   ]
  },
  {
   "cell_type": "markdown",
   "id": "775adc58",
   "metadata": {},
   "source": [
    "### Task 11\n",
    "Pop the last item."
   ]
  },
  {
   "cell_type": "code",
   "execution_count": null,
   "id": "17e8ad38",
   "metadata": {},
   "outputs": [],
   "source": [
    "# Write your code below"
   ]
  },
  {
   "cell_type": "markdown",
   "id": "b47dea1c",
   "metadata": {},
   "source": [
    "### Task 12\n",
    "Delete `\"jam\"` using `del`."
   ]
  },
  {
   "cell_type": "code",
   "execution_count": null,
   "id": "7f4986ab",
   "metadata": {},
   "outputs": [],
   "source": [
    "# Write your code below"
   ]
  },
  {
   "cell_type": "markdown",
   "id": "8d8e86c0",
   "metadata": {},
   "source": [
    "### Task 13\n",
    "Clear the entire list."
   ]
  },
  {
   "cell_type": "code",
   "execution_count": null,
   "id": "6f78a734",
   "metadata": {},
   "outputs": [],
   "source": [
    "# Write your code below"
   ]
  },
  {
   "cell_type": "markdown",
   "id": "5f273cd7",
   "metadata": {},
   "source": [
    "### Task 14\n",
    "Reinitialize and print all items using a `for` loop."
   ]
  },
  {
   "cell_type": "code",
   "execution_count": null,
   "id": "efd425e8",
   "metadata": {},
   "outputs": [],
   "source": [
    "# Write your code below"
   ]
  },
  {
   "cell_type": "markdown",
   "id": "017918c7",
   "metadata": {},
   "source": [
    "### Task 15\n",
    "Use `range()` to loop by index and print items."
   ]
  },
  {
   "cell_type": "code",
   "execution_count": null,
   "id": "77fbbcaf",
   "metadata": {},
   "outputs": [],
   "source": [
    "# Write your code below"
   ]
  },
  {
   "cell_type": "markdown",
   "id": "a347ea7a",
   "metadata": {},
   "source": [
    "### Task 16\n",
    "Create a list of all items in uppercase using list comprehension."
   ]
  },
  {
   "cell_type": "code",
   "execution_count": null,
   "id": "fb301808",
   "metadata": {},
   "outputs": [],
   "source": [
    "# Write your code below"
   ]
  },
  {
   "cell_type": "markdown",
   "id": "04302c46",
   "metadata": {},
   "source": [
    "### Task 17\n",
    "Sort alphabetically."
   ]
  },
  {
   "cell_type": "code",
   "execution_count": null,
   "id": "50ca7a14",
   "metadata": {},
   "outputs": [],
   "source": [
    "# Write your code below"
   ]
  },
  {
   "cell_type": "markdown",
   "id": "a30c53cc",
   "metadata": {},
   "source": [
    "### Task 18\n",
    "Sort in descending order."
   ]
  },
  {
   "cell_type": "code",
   "execution_count": null,
   "id": "14b1e51f",
   "metadata": {},
   "outputs": [],
   "source": [
    "# Write your code below"
   ]
  },
  {
   "cell_type": "markdown",
   "id": "28f86dda",
   "metadata": {},
   "source": [
    "### Task 19\n",
    "Reverse the inventory."
   ]
  },
  {
   "cell_type": "code",
   "execution_count": null,
   "id": "c5b4e43a",
   "metadata": {},
   "outputs": [],
   "source": [
    "# Write your code below"
   ]
  },
  {
   "cell_type": "markdown",
   "id": "1ffe7aa6",
   "metadata": {},
   "source": [
    "### Task 20\n",
    "Copy the list before making changes."
   ]
  },
  {
   "cell_type": "code",
   "execution_count": null,
   "id": "abc07aed",
   "metadata": {},
   "outputs": [],
   "source": [
    "# Write your code below"
   ]
  },
  {
   "cell_type": "markdown",
   "id": "e0fc12d3",
   "metadata": {},
   "source": [
    "### Task 21\n",
    "Join with another inventory list: `[\"chips\", \"soda\"]`."
   ]
  },
  {
   "cell_type": "code",
   "execution_count": null,
   "id": "fda97505",
   "metadata": {},
   "outputs": [],
   "source": [
    "# Write your code below"
   ]
  },
  {
   "cell_type": "markdown",
   "id": "3b4a87fd",
   "metadata": {},
   "source": [
    "## Problem 3: Daily Task Planner\n",
    "\n",
    "**Scenario**: You are creating a to-do list app that helps organize daily tasks."
   ]
  },
  {
   "cell_type": "code",
   "execution_count": null,
   "id": "fb262c5c",
   "metadata": {},
   "outputs": [],
   "source": [
    "# Initial data\n",
    "tasks = [\"email\", \"meeting\", \"coding\", \"review\", \"submit report\"]"
   ]
  },
  {
   "cell_type": "markdown",
   "id": "7a14a0e6",
   "metadata": {},
   "source": [
    "### Task 1\n",
    "Print the list and check its type."
   ]
  },
  {
   "cell_type": "code",
   "execution_count": null,
   "id": "aa41a5a3",
   "metadata": {},
   "outputs": [],
   "source": [
    "# Write your code below"
   ]
  },
  {
   "cell_type": "markdown",
   "id": "4103002b",
   "metadata": {},
   "source": [
    "### Task 2\n",
    "Access the second task."
   ]
  },
  {
   "cell_type": "code",
   "execution_count": null,
   "id": "61f09be3",
   "metadata": {},
   "outputs": [],
   "source": [
    "# Write your code below"
   ]
  },
  {
   "cell_type": "markdown",
   "id": "4ea063e7",
   "metadata": {},
   "source": [
    "### Task 3\n",
    "Print tasks from index 1 to 3."
   ]
  },
  {
   "cell_type": "code",
   "execution_count": null,
   "id": "7fea07b6",
   "metadata": {},
   "outputs": [],
   "source": [
    "# Write your code below"
   ]
  },
  {
   "cell_type": "markdown",
   "id": "0aa98154",
   "metadata": {},
   "source": [
    "### Task 4\n",
    "Check if `\"coding\"` is in the list."
   ]
  },
  {
   "cell_type": "code",
   "execution_count": null,
   "id": "cc78e202",
   "metadata": {},
   "outputs": [],
   "source": [
    "# Write your code below"
   ]
  },
  {
   "cell_type": "markdown",
   "id": "a3f6a87f",
   "metadata": {},
   "source": [
    "### Task 5\n",
    "Change `\"review\"` to `\"test code\"`."
   ]
  },
  {
   "cell_type": "code",
   "execution_count": null,
   "id": "fa57bc78",
   "metadata": {},
   "outputs": [],
   "source": [
    "# Write your code below"
   ]
  },
  {
   "cell_type": "markdown",
   "id": "8fc39a96",
   "metadata": {},
   "source": [
    "### Task 6\n",
    "Change a range `[\"coding\", \"test code\"]` to `[\"design\", \"debug\"]`."
   ]
  },
  {
   "cell_type": "code",
   "execution_count": null,
   "id": "86353176",
   "metadata": {},
   "outputs": [],
   "source": [
    "# Write your code below"
   ]
  },
  {
   "cell_type": "markdown",
   "id": "83a79b3c",
   "metadata": {},
   "source": [
    "### Task 7\n",
    "Append `\"lunch\"`."
   ]
  },
  {
   "cell_type": "code",
   "execution_count": null,
   "id": "eade2017",
   "metadata": {},
   "outputs": [],
   "source": [
    "# Write your code below"
   ]
  },
  {
   "cell_type": "markdown",
   "id": "9fdbd7a3",
   "metadata": {},
   "source": [
    "### Task 8\n",
    "Insert `\"stand-up\"` at index 0."
   ]
  },
  {
   "cell_type": "code",
   "execution_count": null,
   "id": "dea2ec44",
   "metadata": {},
   "outputs": [],
   "source": [
    "# Write your code below"
   ]
  },
  {
   "cell_type": "markdown",
   "id": "b4d6cbf3",
   "metadata": {},
   "source": [
    "### Task 9\n",
    "Extend with `[\"wrap-up\", \"log-off\"]`."
   ]
  },
  {
   "cell_type": "code",
   "execution_count": null,
   "id": "a6bdd975",
   "metadata": {},
   "outputs": [],
   "source": [
    "# Write your code below"
   ]
  },
  {
   "cell_type": "markdown",
   "id": "b879fa42",
   "metadata": {},
   "source": [
    "### Task 10\n",
    "Remove `\"meeting\"`."
   ]
  },
  {
   "cell_type": "code",
   "execution_count": null,
   "id": "0d80c6ea",
   "metadata": {},
   "outputs": [],
   "source": [
    "# Write your code below"
   ]
  },
  {
   "cell_type": "markdown",
   "id": "951c10db",
   "metadata": {},
   "source": [
    "### Task 11\n",
    "Pop the task at index 4."
   ]
  },
  {
   "cell_type": "code",
   "execution_count": null,
   "id": "3aa95a44",
   "metadata": {},
   "outputs": [],
   "source": [
    "# Write your code below"
   ]
  },
  {
   "cell_type": "markdown",
   "id": "b7b9f2f4",
   "metadata": {},
   "source": [
    "### Task 12\n",
    "Delete `\"debug\"` using `del`."
   ]
  },
  {
   "cell_type": "code",
   "execution_count": null,
   "id": "d54fe524",
   "metadata": {},
   "outputs": [],
   "source": [
    "# Write your code below"
   ]
  },
  {
   "cell_type": "markdown",
   "id": "64861720",
   "metadata": {},
   "source": [
    "### Task 13\n",
    "Clear the task list after the day ends."
   ]
  },
  {
   "cell_type": "code",
   "execution_count": null,
   "id": "f152fa38",
   "metadata": {},
   "outputs": [],
   "source": [
    "# Write your code below"
   ]
  },
  {
   "cell_type": "markdown",
   "id": "baad46b1",
   "metadata": {},
   "source": [
    "### Task 14\n",
    "Loop and print tasks using a `for` loop."
   ]
  },
  {
   "cell_type": "code",
   "execution_count": null,
   "id": "8a648797",
   "metadata": {},
   "outputs": [],
   "source": [
    "# Write your code below"
   ]
  },
  {
   "cell_type": "markdown",
   "id": "8e1c5ed4",
   "metadata": {},
   "source": [
    "### Task 15\n",
    "Print with index using `range(len(tasks))`."
   ]
  },
  {
   "cell_type": "code",
   "execution_count": null,
   "id": "ab2a793e",
   "metadata": {},
   "outputs": [],
   "source": [
    "# Write your code below"
   ]
  },
  {
   "cell_type": "markdown",
   "id": "517a2528",
   "metadata": {},
   "source": [
    "### Task 16\n",
    "Create a new list with capitalized task names using list comprehension."
   ]
  },
  {
   "cell_type": "code",
   "execution_count": null,
   "id": "f67cb373",
   "metadata": {},
   "outputs": [],
   "source": [
    "# Write your code below"
   ]
  },
  {
   "cell_type": "markdown",
   "id": "86fceabe",
   "metadata": {},
   "source": [
    "### Task 17\n",
    "Sort tasks alphabetically."
   ]
  },
  {
   "cell_type": "code",
   "execution_count": null,
   "id": "22c3ca85",
   "metadata": {},
   "outputs": [],
   "source": [
    "# Write your code below"
   ]
  },
  {
   "cell_type": "markdown",
   "id": "8a5a8453",
   "metadata": {},
   "source": [
    "### Task 18\n",
    "Sort tasks in reverse order."
   ]
  },
  {
   "cell_type": "code",
   "execution_count": null,
   "id": "70e03f77",
   "metadata": {},
   "outputs": [],
   "source": [
    "# Write your code below"
   ]
  },
  {
   "cell_type": "markdown",
   "id": "a0b8c1b1",
   "metadata": {},
   "source": [
    "### Task 19\n",
    "Reverse the task list."
   ]
  },
  {
   "cell_type": "code",
   "execution_count": null,
   "id": "84b1e18c",
   "metadata": {},
   "outputs": [],
   "source": [
    "# Write your code below"
   ]
  },
  {
   "cell_type": "markdown",
   "id": "4db705d2",
   "metadata": {},
   "source": [
    "### Task 20\n",
    "Copy the list before clearing."
   ]
  },
  {
   "cell_type": "code",
   "execution_count": null,
   "id": "12e200d9",
   "metadata": {},
   "outputs": [],
   "source": [
    "# Write your code below"
   ]
  },
  {
   "cell_type": "markdown",
   "id": "8c6f27a3",
   "metadata": {},
   "source": [
    "### Task 21\n",
    "Join with another list of tasks: `[\"dinner\", \"relax\"]`."
   ]
  },
  {
   "cell_type": "code",
   "execution_count": null,
   "id": "71429e9e",
   "metadata": {},
   "outputs": [],
   "source": [
    "# Write your code below"
   ]
  },
  {
   "cell_type": "markdown",
   "id": "c88f9ea6",
   "metadata": {},
   "source": [
    "## Problem 4: Exam Score Tracker\n",
    "\n",
    "**Scenario**: You're managing students' exam scores and need to process them."
   ]
  },
  {
   "cell_type": "code",
   "execution_count": null,
   "id": "7a112f39",
   "metadata": {},
   "outputs": [],
   "source": [
    "# Initial data\n",
    "scores = [88, 92, 75, 89, 92, 67]"
   ]
  },
  {
   "cell_type": "markdown",
   "id": "852ac33b",
   "metadata": {},
   "source": [
    "### Task 1\n",
    "Print the list and its type."
   ]
  },
  {
   "cell_type": "code",
   "execution_count": null,
   "id": "216c0e16",
   "metadata": {},
   "outputs": [],
   "source": [
    "# Write your code below"
   ]
  },
  {
   "cell_type": "markdown",
   "id": "c247e87c",
   "metadata": {},
   "source": [
    "### Task 2\n",
    "Access the third score."
   ]
  },
  {
   "cell_type": "code",
   "execution_count": null,
   "id": "600d3063",
   "metadata": {},
   "outputs": [],
   "source": [
    "# Write your code below"
   ]
  },
  {
   "cell_type": "markdown",
   "id": "fc4cb990",
   "metadata": {},
   "source": [
    "### Task 3\n",
    "Print scores from index 2 to 5."
   ]
  },
  {
   "cell_type": "code",
   "execution_count": null,
   "id": "7dce889e",
   "metadata": {},
   "outputs": [],
   "source": [
    "# Write your code below"
   ]
  },
  {
   "cell_type": "markdown",
   "id": "eb80edf3",
   "metadata": {},
   "source": [
    "### Task 4\n",
    "Check if `92` is in the list."
   ]
  },
  {
   "cell_type": "code",
   "execution_count": null,
   "id": "e9b671c1",
   "metadata": {},
   "outputs": [],
   "source": [
    "# Write your code below"
   ]
  },
  {
   "cell_type": "markdown",
   "id": "1e1b82bc",
   "metadata": {},
   "source": [
    "### Task 5\n",
    "Replace the first `75` with `78`."
   ]
  },
  {
   "cell_type": "code",
   "execution_count": null,
   "id": "473900bc",
   "metadata": {},
   "outputs": [],
   "source": [
    "# Write your code below"
   ]
  },
  {
   "cell_type": "markdown",
   "id": "79594cfe",
   "metadata": {},
   "source": [
    "### Task 6\n",
    "Replace a range `[89, 92]` with `[85, 90]`."
   ]
  },
  {
   "cell_type": "code",
   "execution_count": null,
   "id": "b3bfda4f",
   "metadata": {},
   "outputs": [],
   "source": [
    "# Write your code below"
   ]
  },
  {
   "cell_type": "markdown",
   "id": "1bd0a8b6",
   "metadata": {},
   "source": [
    "### Task 7\n",
    "Append a score `95`."
   ]
  },
  {
   "cell_type": "code",
   "execution_count": null,
   "id": "339897c0",
   "metadata": {},
   "outputs": [],
   "source": [
    "# Write your code below"
   ]
  },
  {
   "cell_type": "markdown",
   "id": "59790f39",
   "metadata": {},
   "source": [
    "### Task 8\n",
    "Insert `82` at index 1."
   ]
  },
  {
   "cell_type": "code",
   "execution_count": null,
   "id": "64d7416b",
   "metadata": {},
   "outputs": [],
   "source": [
    "# Write your code below"
   ]
  },
  {
   "cell_type": "markdown",
   "id": "7f599256",
   "metadata": {},
   "source": [
    "### Task 9\n",
    "Extend with `[100, 68, 76]`."
   ]
  },
  {
   "cell_type": "code",
   "execution_count": null,
   "id": "3804405e",
   "metadata": {},
   "outputs": [],
   "source": [
    "# Write your code below"
   ]
  },
  {
   "cell_type": "markdown",
   "id": "94a4304d",
   "metadata": {},
   "source": [
    "### Task 10\n",
    "Remove the first `92`."
   ]
  },
  {
   "cell_type": "code",
   "execution_count": null,
   "id": "773cb039",
   "metadata": {},
   "outputs": [],
   "source": [
    "# Write your code below"
   ]
  },
  {
   "cell_type": "markdown",
   "id": "75eabc41",
   "metadata": {},
   "source": [
    "### Task 11\n",
    "Pop the last score."
   ]
  },
  {
   "cell_type": "code",
   "execution_count": null,
   "id": "ddc2449c",
   "metadata": {},
   "outputs": [],
   "source": [
    "# Write your code below"
   ]
  },
  {
   "cell_type": "markdown",
   "id": "acdb2bdd",
   "metadata": {},
   "source": [
    "### Task 12\n",
    "Use `del` to remove score at index 0."
   ]
  },
  {
   "cell_type": "code",
   "execution_count": null,
   "id": "3a1bf920",
   "metadata": {},
   "outputs": [],
   "source": [
    "# Write your code below"
   ]
  },
  {
   "cell_type": "markdown",
   "id": "6f805c1e",
   "metadata": {},
   "source": [
    "### Task 13\n",
    "Clear the entire score list."
   ]
  },
  {
   "cell_type": "code",
   "execution_count": null,
   "id": "fa2e0f35",
   "metadata": {},
   "outputs": [],
   "source": [
    "# Write your code below"
   ]
  },
  {
   "cell_type": "markdown",
   "id": "7ed303bc",
   "metadata": {},
   "source": [
    "### Task 14\n",
    "Recreate the list and print scores using `for`."
   ]
  },
  {
   "cell_type": "code",
   "execution_count": null,
   "id": "cd70ee32",
   "metadata": {},
   "outputs": [],
   "source": [
    "# Write your code below"
   ]
  },
  {
   "cell_type": "markdown",
   "id": "ef27ce85",
   "metadata": {},
   "source": [
    "### Task 15\n",
    "Print index and score using `range()`."
   ]
  },
  {
   "cell_type": "code",
   "execution_count": null,
   "id": "0ddd6f14",
   "metadata": {},
   "outputs": [],
   "source": [
    "# Write your code below"
   ]
  },
  {
   "cell_type": "markdown",
   "id": "19d161c0",
   "metadata": {},
   "source": [
    "### Task 16\n",
    "Create a new list of squares of scores using list comprehension."
   ]
  },
  {
   "cell_type": "code",
   "execution_count": null,
   "id": "824b0c2e",
   "metadata": {},
   "outputs": [],
   "source": [
    "# Write your code below"
   ]
  },
  {
   "cell_type": "markdown",
   "id": "b17fb73a",
   "metadata": {},
   "source": [
    "### Task 17\n",
    "Sort scores in ascending order."
   ]
  },
  {
   "cell_type": "code",
   "execution_count": null,
   "id": "aecc7b19",
   "metadata": {},
   "outputs": [],
   "source": [
    "# Write your code below"
   ]
  },
  {
   "cell_type": "markdown",
   "id": "07fe31ec",
   "metadata": {},
   "source": [
    "### Task 18\n",
    "Sort scores in descending order."
   ]
  },
  {
   "cell_type": "code",
   "execution_count": null,
   "id": "8cbb53dc",
   "metadata": {},
   "outputs": [],
   "source": [
    "# Write your code below"
   ]
  },
  {
   "cell_type": "markdown",
   "id": "3657731d",
   "metadata": {},
   "source": [
    "### Task 19\n",
    "Reverse the order of scores."
   ]
  },
  {
   "cell_type": "code",
   "execution_count": null,
   "id": "f9d4aaa4",
   "metadata": {},
   "outputs": [],
   "source": [
    "# Write your code below"
   ]
  },
  {
   "cell_type": "markdown",
   "id": "b99982fc",
   "metadata": {},
   "source": [
    "### Task 20\n",
    "Copy the score list before sorting."
   ]
  },
  {
   "cell_type": "code",
   "execution_count": null,
   "id": "97b8f335",
   "metadata": {},
   "outputs": [],
   "source": [
    "# Write your code below"
   ]
  },
  {
   "cell_type": "markdown",
   "id": "110323dd",
   "metadata": {},
   "source": [
    "### Task 21\n",
    "Join with another score list: `[60, 70]`."
   ]
  },
  {
   "cell_type": "code",
   "execution_count": null,
   "id": "9dbb403c",
   "metadata": {},
   "outputs": [],
   "source": [
    "# Write your code below"
   ]
  },
  {
   "cell_type": "markdown",
   "id": "555ffe0f",
   "metadata": {},
   "source": [
    "## Problem 5: Movie Watchlist Manager\n",
    "\n",
    "**Scenario**: Build and manage a personal movie watchlist."
   ]
  },
  {
   "cell_type": "code",
   "execution_count": null,
   "id": "54341c88",
   "metadata": {},
   "outputs": [],
   "source": [
    "# Initial data\n",
    "movies = [\"Inception\", \"Titanic\", \"Avatar\", \"Gravity\", \"Titanic\"]"
   ]
  },
  {
   "cell_type": "markdown",
   "id": "6b5560f9",
   "metadata": {},
   "source": [
    "### Task 1\n",
    "Print the movie list and check its type."
   ]
  },
  {
   "cell_type": "code",
   "execution_count": null,
   "id": "ad5703de",
   "metadata": {},
   "outputs": [],
   "source": [
    "# Write your code below"
   ]
  },
  {
   "cell_type": "markdown",
   "id": "cc3bb611",
   "metadata": {},
   "source": [
    "### Task 2\n",
    "Access the first movie."
   ]
  },
  {
   "cell_type": "code",
   "execution_count": null,
   "id": "163d8115",
   "metadata": {},
   "outputs": [],
   "source": [
    "# Write your code below"
   ]
  },
  {
   "cell_type": "markdown",
   "id": "3af8a72f",
   "metadata": {},
   "source": [
    "### Task 3\n",
    "Print movies from index 1 to 4."
   ]
  },
  {
   "cell_type": "code",
   "execution_count": null,
   "id": "801d2d03",
   "metadata": {},
   "outputs": [],
   "source": [
    "# Write your code below"
   ]
  },
  {
   "cell_type": "markdown",
   "id": "5e19a672",
   "metadata": {},
   "source": [
    "### Task 4\n",
    "Check if `\"Avatar\"` exists in the list."
   ]
  },
  {
   "cell_type": "code",
   "execution_count": null,
   "id": "3203232b",
   "metadata": {},
   "outputs": [],
   "source": [
    "# Write your code below"
   ]
  },
  {
   "cell_type": "markdown",
   "id": "cffe73f4",
   "metadata": {},
   "source": [
    "### Task 5\n",
    "Change `\"Gravity\"` to `\"Interstellar\"`."
   ]
  },
  {
   "cell_type": "code",
   "execution_count": null,
   "id": "c56375da",
   "metadata": {},
   "outputs": [],
   "source": [
    "# Write your code below"
   ]
  },
  {
   "cell_type": "markdown",
   "id": "6b6f1f29",
   "metadata": {},
   "source": [
    "### Task 6\n",
    "Change a range of movies `[\"Titanic\", \"Avatar\"]` to `[\"Shutter Island\", \"Tenet\"]`."
   ]
  },
  {
   "cell_type": "code",
   "execution_count": null,
   "id": "53196065",
   "metadata": {},
   "outputs": [],
   "source": [
    "# Write your code below"
   ]
  },
  {
   "cell_type": "markdown",
   "id": "81815ca5",
   "metadata": {},
   "source": [
    "### Task 7\n",
    "Append `\"The Prestige\"`."
   ]
  },
  {
   "cell_type": "code",
   "execution_count": null,
   "id": "a55a1385",
   "metadata": {},
   "outputs": [],
   "source": [
    "# Write your code below"
   ]
  },
  {
   "cell_type": "markdown",
   "id": "703473d3",
   "metadata": {},
   "source": [
    "### Task 8\n",
    "Insert `\"Memento\"` at index 1."
   ]
  },
  {
   "cell_type": "code",
   "execution_count": null,
   "id": "b0c5b725",
   "metadata": {},
   "outputs": [],
   "source": [
    "# Write your code below"
   ]
  },
  {
   "cell_type": "markdown",
   "id": "81e79295",
   "metadata": {},
   "source": [
    "### Task 9\n",
    "Extend with `[\"The Dark Knight\", \"Dunkirk\"]`."
   ]
  },
  {
   "cell_type": "code",
   "execution_count": null,
   "id": "ae6dd560",
   "metadata": {},
   "outputs": [],
   "source": [
    "# Write your code below"
   ]
  },
  {
   "cell_type": "markdown",
   "id": "2d3c372a",
   "metadata": {},
   "source": [
    "### Task 10\n",
    "Remove one `\"Titanic\"` from the list."
   ]
  },
  {
   "cell_type": "code",
   "execution_count": null,
   "id": "bd154ef4",
   "metadata": {},
   "outputs": [],
   "source": [
    "# Write your code below"
   ]
  },
  {
   "cell_type": "markdown",
   "id": "46ce0a8e",
   "metadata": {},
   "source": [
    "### Task 11\n",
    "Pop the last movie."
   ]
  },
  {
   "cell_type": "code",
   "execution_count": null,
   "id": "e6a9a8d6",
   "metadata": {},
   "outputs": [],
   "source": [
    "# Write your code below"
   ]
  },
  {
   "cell_type": "markdown",
   "id": "c7cc55a6",
   "metadata": {},
   "source": [
    "### Task 12\n",
    "Delete `\"Shutter Island\"` using `del`."
   ]
  },
  {
   "cell_type": "code",
   "execution_count": null,
   "id": "94484306",
   "metadata": {},
   "outputs": [],
   "source": [
    "# Write your code below"
   ]
  },
  {
   "cell_type": "markdown",
   "id": "fc01db25",
   "metadata": {},
   "source": [
    "### Task 13\n",
    "Clear the entire movie list."
   ]
  },
  {
   "cell_type": "code",
   "execution_count": null,
   "id": "c8a3c00e",
   "metadata": {},
   "outputs": [],
   "source": [
    "# Write your code below"
   ]
  },
  {
   "cell_type": "markdown",
   "id": "ce8e3568",
   "metadata": {},
   "source": [
    "### Task 14\n",
    "Recreate and print each movie using a loop."
   ]
  },
  {
   "cell_type": "code",
   "execution_count": null,
   "id": "ca0b58a1",
   "metadata": {},
   "outputs": [],
   "source": [
    "# Write your code below"
   ]
  },
  {
   "cell_type": "markdown",
   "id": "0851f87b",
   "metadata": {},
   "source": [
    "### Task 15\n",
    "Print using index numbers via `range()`."
   ]
  },
  {
   "cell_type": "code",
   "execution_count": null,
   "id": "5f6a0ff4",
   "metadata": {},
   "outputs": [],
   "source": [
    "# Write your code below"
   ]
  },
  {
   "cell_type": "markdown",
   "id": "d6afd931",
   "metadata": {},
   "source": [
    "### Task 16\n",
    "Create a new list with movie titles in lowercase using list comprehension."
   ]
  },
  {
   "cell_type": "code",
   "execution_count": null,
   "id": "5be6edbd",
   "metadata": {},
   "outputs": [],
   "source": [
    "# Write your code below"
   ]
  },
  {
   "cell_type": "markdown",
   "id": "f13df5f9",
   "metadata": {},
   "source": [
    "### Task 17\n",
    "Sort the movies alphabetically."
   ]
  },
  {
   "cell_type": "code",
   "execution_count": null,
   "id": "f7698d42",
   "metadata": {},
   "outputs": [],
   "source": [
    "# Write your code below"
   ]
  },
  {
   "cell_type": "markdown",
   "id": "1fa4d8e3",
   "metadata": {},
   "source": [
    "### Task 18\n",
    "Sort in reverse alphabetical order."
   ]
  },
  {
   "cell_type": "code",
   "execution_count": null,
   "id": "b3386d80",
   "metadata": {},
   "outputs": [],
   "source": [
    "# Write your code below"
   ]
  },
  {
   "cell_type": "markdown",
   "id": "c2140326",
   "metadata": {},
   "source": [
    "### Task 19\n",
    "Reverse the list order."
   ]
  },
  {
   "cell_type": "code",
   "execution_count": null,
   "id": "94a222d7",
   "metadata": {},
   "outputs": [],
   "source": [
    "# Write your code below"
   ]
  },
  {
   "cell_type": "markdown",
   "id": "5bf426fd",
   "metadata": {},
   "source": [
    "### Task 20\n",
    "Copy the list to a backup variable."
   ]
  },
  {
   "cell_type": "code",
   "execution_count": null,
   "id": "d1db72a0",
   "metadata": {},
   "outputs": [],
   "source": [
    "# Write your code below"
   ]
  },
  {
   "cell_type": "markdown",
   "id": "910b0b10",
   "metadata": {},
   "source": [
    "### Task 21\n",
    "Join with another list: `[\"Oppenheimer\", \"Barbie\"]`."
   ]
  },
  {
   "cell_type": "code",
   "execution_count": null,
   "id": "1080fe93",
   "metadata": {},
   "outputs": [],
   "source": [
    "# Write your code below"
   ]
  }
 ],
 "metadata": {},
 "nbformat": 4,
 "nbformat_minor": 5
}
