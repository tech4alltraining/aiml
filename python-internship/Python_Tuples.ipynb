{
 "cells": [
  {
   "cell_type": "markdown",
   "id": "79a9bd0d",
   "metadata": {},
   "source": [
    "## Problem 1: Student Roll Numbers\n",
    "\n",
    "**Scenario**: You are managing a fixed list of student roll numbers."
   ]
  },
  {
   "cell_type": "code",
   "execution_count": null,
   "id": "6bb3243e",
   "metadata": {},
   "outputs": [],
   "source": [
    "# Initial data\n",
    "roll_numbers = (101, 102, 103, 104, 105)"
   ]
  },
  {
   "cell_type": "markdown",
   "id": "43c2a3bb",
   "metadata": {},
   "source": [
    "### Task 1\n",
    "Print the tuple `roll_numbers`."
   ]
  },
  {
   "cell_type": "code",
   "execution_count": null,
   "id": "9ab0b4f1",
   "metadata": {},
   "outputs": [],
   "source": [
    "# Write your code below"
   ]
  },
  {
   "cell_type": "markdown",
   "id": "e9302b6e",
   "metadata": {},
   "source": [
    "### Task 2\n",
    "Print the length of `roll_numbers` (expected output: 5)."
   ]
  },
  {
   "cell_type": "code",
   "execution_count": null,
   "id": "fa9917d7",
   "metadata": {},
   "outputs": [],
   "source": [
    "# Write your code below"
   ]
  },
  {
   "cell_type": "markdown",
   "id": "3766e525",
   "metadata": {},
   "source": [
    "### Task 3\n",
    "Print the type of `roll_numbers` (expected output: <class 'tuple'>)."
   ]
  },
  {
   "cell_type": "code",
   "execution_count": null,
   "id": "52a33884",
   "metadata": {},
   "outputs": [],
   "source": [
    "# Write your code below"
   ]
  },
  {
   "cell_type": "markdown",
   "id": "7ddf2f16",
   "metadata": {},
   "source": [
    "### Task 4\n",
    "Access and print the first item of `roll_numbers` (expected output: 101)."
   ]
  },
  {
   "cell_type": "code",
   "execution_count": null,
   "id": "63e7384f",
   "metadata": {},
   "outputs": [],
   "source": [
    "# Write your code below"
   ]
  },
  {
   "cell_type": "markdown",
   "id": "ad15e643",
   "metadata": {},
   "source": [
    "### Task 5\n",
    "Access and print items from index 1 to 3 in `roll_numbers` (expected output: (102, 103, 104))."
   ]
  },
  {
   "cell_type": "code",
   "execution_count": null,
   "id": "56e1f9d4",
   "metadata": {},
   "outputs": [],
   "source": [
    "# Write your code below"
   ]
  },
  {
   "cell_type": "markdown",
   "id": "6501fe01",
   "metadata": {},
   "source": [
    "### Task 6\n",
    "Check if 103 exists in `roll_numbers` and print the result (expected output: True)."
   ]
  },
  {
   "cell_type": "code",
   "execution_count": null,
   "id": "1e9f59ef",
   "metadata": {},
   "outputs": [],
   "source": [
    "# Write your code below"
   ]
  },
  {
   "cell_type": "markdown",
   "id": "3f05283b",
   "metadata": {},
   "source": [
    "### Task 7\n",
    "Change the second item (102) of `roll_numbers` to 106 by converting to a list and back to a tuple; then print the updated tuple."
   ]
  },
  {
   "cell_type": "code",
   "execution_count": null,
   "id": "76582b38",
   "metadata": {},
   "outputs": [],
   "source": [
    "# Write your code below"
   ]
  },
  {
   "cell_type": "markdown",
   "id": "5832cd80",
   "metadata": {},
   "source": [
    "### Task 8\n",
    "Add a new item 107 to `roll_numbers` by concatenating with the tuple (107,); then print the new tuple."
   ]
  },
  {
   "cell_type": "code",
   "execution_count": null,
   "id": "6c92720c",
   "metadata": {},
   "outputs": [],
   "source": [
    "# Write your code below"
   ]
  },
  {
   "cell_type": "markdown",
   "id": "ae8b1366",
   "metadata": {},
   "source": [
    "### Task 9\n",
    "Remove the item 104 from `roll_numbers` by converting it to a list, removing 104, and converting back to a tuple; then print the result."
   ]
  },
  {
   "cell_type": "code",
   "execution_count": null,
   "id": "ec92a5f9",
   "metadata": {},
   "outputs": [],
   "source": [
    "# Write your code below"
   ]
  },
  {
   "cell_type": "markdown",
   "id": "ab5b526a",
   "metadata": {},
   "source": [
    "### Task 10\n",
    "Unpack `roll_numbers` into five variables and print each variable."
   ]
  },
  {
   "cell_type": "code",
   "execution_count": null,
   "id": "9255eed7",
   "metadata": {},
   "outputs": [],
   "source": [
    "# Write your code below"
   ]
  },
  {
   "cell_type": "markdown",
   "id": "37b5235a",
   "metadata": {},
   "source": [
    "### Task 11\n",
    "Loop through `roll_numbers` using a for loop and print each item."
   ]
  },
  {
   "cell_type": "code",
   "execution_count": null,
   "id": "8c4b12ad",
   "metadata": {},
   "outputs": [],
   "source": [
    "# Write your code below"
   ]
  },
  {
   "cell_type": "markdown",
   "id": "d66ad738",
   "metadata": {},
   "source": [
    "### Task 12\n",
    "Loop through `roll_numbers` using range() and print each item's index and value."
   ]
  },
  {
   "cell_type": "code",
   "execution_count": null,
   "id": "881e010a",
   "metadata": {},
   "outputs": [],
   "source": [
    "# Write your code below"
   ]
  },
  {
   "cell_type": "markdown",
   "id": "6a36907b",
   "metadata": {},
   "source": [
    "### Task 13\n",
    "Join `roll_numbers` with the tuple (200, 201) and print the resulting tuple."
   ]
  },
  {
   "cell_type": "code",
   "execution_count": null,
   "id": "72dffcee",
   "metadata": {},
   "outputs": [],
   "source": [
    "# Write your code below"
   ]
  },
  {
   "cell_type": "markdown",
   "id": "e05f3d09",
   "metadata": {},
   "source": [
    "## Problem 2: Grocery Item Prices\n",
    "\n",
    "**Scenario**: Track immutable prices of items in your store."
   ]
  },
  {
   "cell_type": "code",
   "execution_count": null,
   "id": "b2d50513",
   "metadata": {},
   "outputs": [],
   "source": [
    "# Initial data\n",
    "prices = (49.99, 29.50, 15.75, 60.00, 10.00)"
   ]
  },
  {
   "cell_type": "markdown",
   "id": "b2fa1c4c",
   "metadata": {},
   "source": [
    "### Task 1\n",
    "Print the tuple `prices`."
   ]
  },
  {
   "cell_type": "code",
   "execution_count": null,
   "id": "a6c575e4",
   "metadata": {},
   "outputs": [],
   "source": [
    "# Write your code below"
   ]
  },
  {
   "cell_type": "markdown",
   "id": "3668c188",
   "metadata": {},
   "source": [
    "### Task 2\n",
    "Print the length of `prices` (expected output: 5)."
   ]
  },
  {
   "cell_type": "code",
   "execution_count": null,
   "id": "54fcd2b9",
   "metadata": {},
   "outputs": [],
   "source": [
    "# Write your code below"
   ]
  },
  {
   "cell_type": "markdown",
   "id": "225a1d38",
   "metadata": {},
   "source": [
    "### Task 3\n",
    "Print the type of `prices` (expected output: <class 'tuple'>)."
   ]
  },
  {
   "cell_type": "code",
   "execution_count": null,
   "id": "b35ceae4",
   "metadata": {},
   "outputs": [],
   "source": [
    "# Write your code below"
   ]
  },
  {
   "cell_type": "markdown",
   "id": "fea21685",
   "metadata": {},
   "source": [
    "### Task 4\n",
    "Access and print the first price in `prices` (expected output: 49.99)."
   ]
  },
  {
   "cell_type": "code",
   "execution_count": null,
   "id": "d62c8cd2",
   "metadata": {},
   "outputs": [],
   "source": [
    "# Write your code below"
   ]
  },
  {
   "cell_type": "markdown",
   "id": "26aff18c",
   "metadata": {},
   "source": [
    "### Task 5\n",
    "Access and print items from index 1 to 3 in `prices` (expected output: (29.5, 15.75, 60.0))."
   ]
  },
  {
   "cell_type": "code",
   "execution_count": null,
   "id": "9150bf3d",
   "metadata": {},
   "outputs": [],
   "source": [
    "# Write your code below"
   ]
  },
  {
   "cell_type": "markdown",
   "id": "146fd7f8",
   "metadata": {},
   "source": [
    "### Task 6\n",
    "Check if 15.75 exists in `prices` and print the result (expected output: True)."
   ]
  },
  {
   "cell_type": "code",
   "execution_count": null,
   "id": "92c0a665",
   "metadata": {},
   "outputs": [],
   "source": [
    "# Write your code below"
   ]
  },
  {
   "cell_type": "markdown",
   "id": "c491c59d",
   "metadata": {},
   "source": [
    "### Task 7\n",
    "Change the third price (15.75) of `prices` to 16.50 by converting to a list and back to a tuple; then print the updated tuple."
   ]
  },
  {
   "cell_type": "code",
   "execution_count": null,
   "id": "a8bb639c",
   "metadata": {},
   "outputs": [],
   "source": [
    "# Write your code below"
   ]
  },
  {
   "cell_type": "markdown",
   "id": "ec0f2534",
   "metadata": {},
   "source": [
    "### Task 8\n",
    "Add a new price 12.00 to `prices` by concatenating with the tuple (12.00,); then print the new tuple."
   ]
  },
  {
   "cell_type": "code",
   "execution_count": null,
   "id": "975a1fbf",
   "metadata": {},
   "outputs": [],
   "source": [
    "# Write your code below"
   ]
  },
  {
   "cell_type": "markdown",
   "id": "ea2cbb65",
   "metadata": {},
   "source": [
    "### Task 9\n",
    "Remove the price 60.00 from `prices` by converting it to a list, removing 60.00, and converting back to a tuple; then print the result."
   ]
  },
  {
   "cell_type": "code",
   "execution_count": null,
   "id": "2a06f8e2",
   "metadata": {},
   "outputs": [],
   "source": [
    "# Write your code below"
   ]
  },
  {
   "cell_type": "markdown",
   "id": "814ba914",
   "metadata": {},
   "source": [
    "### Task 10\n",
    "Unpack `prices` into five variables and print them."
   ]
  },
  {
   "cell_type": "code",
   "execution_count": null,
   "id": "b744213f",
   "metadata": {},
   "outputs": [],
   "source": [
    "# Write your code below"
   ]
  },
  {
   "cell_type": "markdown",
   "id": "2448ed9a",
   "metadata": {},
   "source": [
    "### Task 11\n",
    "Loop through `prices` using a for loop and print each price."
   ]
  },
  {
   "cell_type": "code",
   "execution_count": null,
   "id": "8675fd55",
   "metadata": {},
   "outputs": [],
   "source": [
    "# Write your code below"
   ]
  },
  {
   "cell_type": "markdown",
   "id": "ad7655d6",
   "metadata": {},
   "source": [
    "### Task 12\n",
    "Loop through `prices` using range() and print each index and price."
   ]
  },
  {
   "cell_type": "code",
   "execution_count": null,
   "id": "be22994c",
   "metadata": {},
   "outputs": [],
   "source": [
    "# Write your code below"
   ]
  },
  {
   "cell_type": "markdown",
   "id": "1dfa06a2",
   "metadata": {},
   "source": [
    "### Task 13\n",
    "Join `prices` with the tuple (5.99, 9.99) and print the resulting tuple."
   ]
  },
  {
   "cell_type": "code",
   "execution_count": null,
   "id": "42980544",
   "metadata": {},
   "outputs": [],
   "source": [
    "# Write your code below"
   ]
  },
  {
   "cell_type": "markdown",
   "id": "5b184ff7",
   "metadata": {},
   "source": [
    "## Problem 3: Weekday Schedule\n",
    "\n",
    "**Scenario**: You need to manage your weekly schedule using an immutable structure."
   ]
  },
  {
   "cell_type": "code",
   "execution_count": null,
   "id": "9d162a97",
   "metadata": {},
   "outputs": [],
   "source": [
    "# Initial data\n",
    "weekdays = (\"Monday\", \"Tuesday\", \"Wednesday\", \"Thursday\", \"Friday\")"
   ]
  },
  {
   "cell_type": "markdown",
   "id": "15deff55",
   "metadata": {},
   "source": [
    "### Task 1\n",
    "Print the tuple `weekdays`."
   ]
  },
  {
   "cell_type": "code",
   "execution_count": null,
   "id": "662a4dd4",
   "metadata": {},
   "outputs": [],
   "source": [
    "# Write your code below"
   ]
  },
  {
   "cell_type": "markdown",
   "id": "01e172e9",
   "metadata": {},
   "source": [
    "### Task 2\n",
    "Print the length of `weekdays` (expected output: 5)."
   ]
  },
  {
   "cell_type": "code",
   "execution_count": null,
   "id": "4fe036c1",
   "metadata": {},
   "outputs": [],
   "source": [
    "# Write your code below"
   ]
  },
  {
   "cell_type": "markdown",
   "id": "abbea3e8",
   "metadata": {},
   "source": [
    "### Task 3\n",
    "Print the type of `weekdays` (expected output: <class 'tuple'>)."
   ]
  },
  {
   "cell_type": "code",
   "execution_count": null,
   "id": "e9660f9b",
   "metadata": {},
   "outputs": [],
   "source": [
    "# Write your code below"
   ]
  },
  {
   "cell_type": "markdown",
   "id": "594d691b",
   "metadata": {},
   "source": [
    "### Task 4\n",
    "Access and print the first day of `weekdays` (expected output: 'Monday')."
   ]
  },
  {
   "cell_type": "code",
   "execution_count": null,
   "id": "3a4cbcd9",
   "metadata": {},
   "outputs": [],
   "source": [
    "# Write your code below"
   ]
  },
  {
   "cell_type": "markdown",
   "id": "bcdaa732",
   "metadata": {},
   "source": [
    "### Task 5\n",
    "Access and print days from index 1 to 3 in `weekdays` (expected output: ('Tuesday', 'Wednesday', 'Thursday'))."
   ]
  },
  {
   "cell_type": "code",
   "execution_count": null,
   "id": "4826d6fa",
   "metadata": {},
   "outputs": [],
   "source": [
    "# Write your code below"
   ]
  },
  {
   "cell_type": "markdown",
   "id": "9cf97e8c",
   "metadata": {},
   "source": [
    "### Task 6\n",
    "Check if 'Wednesday' exists in `weekdays` and print the result (expected output: True)."
   ]
  },
  {
   "cell_type": "code",
   "execution_count": null,
   "id": "a3248675",
   "metadata": {},
   "outputs": [],
   "source": [
    "# Write your code below"
   ]
  },
  {
   "cell_type": "markdown",
   "id": "d8dbaa4f",
   "metadata": {},
   "source": [
    "### Task 7\n",
    "Change the second day ('Tuesday') of `weekdays` to 'Tuesday-Updated' by converting to a list and back to a tuple; then print the updated tuple."
   ]
  },
  {
   "cell_type": "code",
   "execution_count": null,
   "id": "80d02eb5",
   "metadata": {},
   "outputs": [],
   "source": [
    "# Write your code below"
   ]
  },
  {
   "cell_type": "markdown",
   "id": "c242bde8",
   "metadata": {},
   "source": [
    "### Task 8\n",
    "Add a new day 'Saturday' to `weekdays` by concatenating with the tuple ('Saturday',); then print the new tuple."
   ]
  },
  {
   "cell_type": "code",
   "execution_count": null,
   "id": "bd04c407",
   "metadata": {},
   "outputs": [],
   "source": [
    "# Write your code below"
   ]
  },
  {
   "cell_type": "markdown",
   "id": "b9dd4b6f",
   "metadata": {},
   "source": [
    "### Task 9\n",
    "Remove the day 'Thursday' from `weekdays` by converting it to a list, removing 'Thursday', and converting back to a tuple; then print the result."
   ]
  },
  {
   "cell_type": "code",
   "execution_count": null,
   "id": "1b0c081b",
   "metadata": {},
   "outputs": [],
   "source": [
    "# Write your code below"
   ]
  },
  {
   "cell_type": "markdown",
   "id": "348dbbfe",
   "metadata": {},
   "source": [
    "### Task 10\n",
    "Unpack `weekdays` into variables and print each variable."
   ]
  },
  {
   "cell_type": "code",
   "execution_count": null,
   "id": "7a6b5c65",
   "metadata": {},
   "outputs": [],
   "source": [
    "# Write your code below"
   ]
  },
  {
   "cell_type": "markdown",
   "id": "923aff14",
   "metadata": {},
   "source": [
    "### Task 11\n",
    "Loop through `weekdays` using a for loop and print each day."
   ]
  },
  {
   "cell_type": "code",
   "execution_count": null,
   "id": "0d2cfbde",
   "metadata": {},
   "outputs": [],
   "source": [
    "# Write your code below"
   ]
  },
  {
   "cell_type": "markdown",
   "id": "e76ec605",
   "metadata": {},
   "source": [
    "### Task 12\n",
    "Loop through `weekdays` using range() and print each index and day."
   ]
  },
  {
   "cell_type": "code",
   "execution_count": null,
   "id": "861e06d1",
   "metadata": {},
   "outputs": [],
   "source": [
    "# Write your code below"
   ]
  },
  {
   "cell_type": "markdown",
   "id": "f503fa44",
   "metadata": {},
   "source": [
    "### Task 13\n",
    "Join `weekdays` with the tuple ('Sunday',) and print the resulting tuple."
   ]
  },
  {
   "cell_type": "code",
   "execution_count": null,
   "id": "ddae313d",
   "metadata": {},
   "outputs": [],
   "source": [
    "# Write your code below"
   ]
  },
  {
   "cell_type": "markdown",
   "id": "5a05c694",
   "metadata": {},
   "source": [
    "## Problem 4: Sensor Readings\n",
    "\n",
    "**Scenario**: You receive a fixed set of sensor readings from an IoT device."
   ]
  },
  {
   "cell_type": "code",
   "execution_count": null,
   "id": "75837823",
   "metadata": {},
   "outputs": [],
   "source": [
    "# Initial data\n",
    "readings = (23.1, 22.8, 23.3, 24.0, 22.5)"
   ]
  },
  {
   "cell_type": "markdown",
   "id": "12be18c1",
   "metadata": {},
   "source": [
    "### Task 1\n",
    "Print the tuple `readings`."
   ]
  },
  {
   "cell_type": "code",
   "execution_count": null,
   "id": "115e3fe5",
   "metadata": {},
   "outputs": [],
   "source": [
    "# Write your code below"
   ]
  },
  {
   "cell_type": "markdown",
   "id": "f1e5e281",
   "metadata": {},
   "source": [
    "### Task 2\n",
    "Print the length of `readings` (expected output: 5)."
   ]
  },
  {
   "cell_type": "code",
   "execution_count": null,
   "id": "cbe1baab",
   "metadata": {},
   "outputs": [],
   "source": [
    "# Write your code below"
   ]
  },
  {
   "cell_type": "markdown",
   "id": "b2a4e9dd",
   "metadata": {},
   "source": [
    "### Task 3\n",
    "Print the type of `readings` (expected output: <class 'tuple'>)."
   ]
  },
  {
   "cell_type": "code",
   "execution_count": null,
   "id": "9a482465",
   "metadata": {},
   "outputs": [],
   "source": [
    "# Write your code below"
   ]
  },
  {
   "cell_type": "markdown",
   "id": "e2b9aa1b",
   "metadata": {},
   "source": [
    "### Task 4\n",
    "Access and print the first reading in `readings` (expected output: 23.1)."
   ]
  },
  {
   "cell_type": "code",
   "execution_count": null,
   "id": "b9909406",
   "metadata": {},
   "outputs": [],
   "source": [
    "# Write your code below"
   ]
  },
  {
   "cell_type": "markdown",
   "id": "c7d5c97e",
   "metadata": {},
   "source": [
    "### Task 5\n",
    "Access and print readings from index 1 to 3 in `readings` (expected output: (22.8, 23.3, 24.0))."
   ]
  },
  {
   "cell_type": "code",
   "execution_count": null,
   "id": "695280bb",
   "metadata": {},
   "outputs": [],
   "source": [
    "# Write your code below"
   ]
  },
  {
   "cell_type": "markdown",
   "id": "0c52640e",
   "metadata": {},
   "source": [
    "### Task 6\n",
    "Check if 23.3 exists in `readings` and print the result (expected output: True)."
   ]
  },
  {
   "cell_type": "code",
   "execution_count": null,
   "id": "261a86bd",
   "metadata": {},
   "outputs": [],
   "source": [
    "# Write your code below"
   ]
  },
  {
   "cell_type": "markdown",
   "id": "4162fd28",
   "metadata": {},
   "source": [
    "### Task 7\n",
    "Change the second reading (22.8) of `readings` to 22.9 by converting to a list and back to a tuple; then print the updated tuple."
   ]
  },
  {
   "cell_type": "code",
   "execution_count": null,
   "id": "e6a23537",
   "metadata": {},
   "outputs": [],
   "source": [
    "# Write your code below"
   ]
  },
  {
   "cell_type": "markdown",
   "id": "c55aa671",
   "metadata": {},
   "source": [
    "### Task 8\n",
    "Add a new reading 23.5 to `readings` by concatenating with the tuple (23.5,); then print the new tuple."
   ]
  },
  {
   "cell_type": "code",
   "execution_count": null,
   "id": "d9126475",
   "metadata": {},
   "outputs": [],
   "source": [
    "# Write your code below"
   ]
  },
  {
   "cell_type": "markdown",
   "id": "5a7f6044",
   "metadata": {},
   "source": [
    "### Task 9\n",
    "Remove the reading 24.0 from `readings` by converting it to a list, removing 24.0, and converting back to a tuple; then print the result."
   ]
  },
  {
   "cell_type": "code",
   "execution_count": null,
   "id": "80b0090b",
   "metadata": {},
   "outputs": [],
   "source": [
    "# Write your code below"
   ]
  },
  {
   "cell_type": "markdown",
   "id": "eaef4b99",
   "metadata": {},
   "source": [
    "### Task 10\n",
    "Unpack `readings` into variables and print them."
   ]
  },
  {
   "cell_type": "code",
   "execution_count": null,
   "id": "f5b7b43f",
   "metadata": {},
   "outputs": [],
   "source": [
    "# Write your code below"
   ]
  },
  {
   "cell_type": "markdown",
   "id": "f950ae8a",
   "metadata": {},
   "source": [
    "### Task 11\n",
    "Loop through `readings` using a for loop and print each reading."
   ]
  },
  {
   "cell_type": "code",
   "execution_count": null,
   "id": "14597118",
   "metadata": {},
   "outputs": [],
   "source": [
    "# Write your code below"
   ]
  },
  {
   "cell_type": "markdown",
   "id": "d1259158",
   "metadata": {},
   "source": [
    "### Task 12\n",
    "Loop through `readings` using range() and print each index and reading."
   ]
  },
  {
   "cell_type": "code",
   "execution_count": null,
   "id": "907d9699",
   "metadata": {},
   "outputs": [],
   "source": [
    "# Write your code below"
   ]
  },
  {
   "cell_type": "markdown",
   "id": "9451130f",
   "metadata": {},
   "source": [
    "### Task 13\n",
    "Join `readings` with the tuple (25.0, 25.5) and print the resulting tuple."
   ]
  },
  {
   "cell_type": "code",
   "execution_count": null,
   "id": "6bf10a28",
   "metadata": {},
   "outputs": [],
   "source": [
    "# Write your code below"
   ]
  },
  {
   "cell_type": "markdown",
   "id": "d3e05a70",
   "metadata": {},
   "source": [
    "## Problem 5: Movie Ratings\n",
    "\n",
    "**Scenario**: Manage and analyze a fixed set of movie ratings."
   ]
  },
  {
   "cell_type": "code",
   "execution_count": null,
   "id": "bdca2044",
   "metadata": {},
   "outputs": [],
   "source": [
    "# Initial data\n",
    "ratings = (4.5, 3.0, 4.0, 5.0, 2.5)"
   ]
  },
  {
   "cell_type": "markdown",
   "id": "9c82407d",
   "metadata": {},
   "source": [
    "### Task 1\n",
    "Print the tuple `ratings`."
   ]
  },
  {
   "cell_type": "code",
   "execution_count": null,
   "id": "31ec29c0",
   "metadata": {},
   "outputs": [],
   "source": [
    "# Write your code below"
   ]
  },
  {
   "cell_type": "markdown",
   "id": "8e740bfd",
   "metadata": {},
   "source": [
    "### Task 2\n",
    "Print the length of `ratings` (expected output: 5)."
   ]
  },
  {
   "cell_type": "code",
   "execution_count": null,
   "id": "119a1e3e",
   "metadata": {},
   "outputs": [],
   "source": [
    "# Write your code below"
   ]
  },
  {
   "cell_type": "markdown",
   "id": "841e6a4b",
   "metadata": {},
   "source": [
    "### Task 3\n",
    "Print the type of `ratings` (expected output: <class 'tuple'>)."
   ]
  },
  {
   "cell_type": "code",
   "execution_count": null,
   "id": "baa5a40b",
   "metadata": {},
   "outputs": [],
   "source": [
    "# Write your code below"
   ]
  },
  {
   "cell_type": "markdown",
   "id": "c56711ea",
   "metadata": {},
   "source": [
    "### Task 4\n",
    "Access and print the first rating in `ratings` (expected output: 4.5)."
   ]
  },
  {
   "cell_type": "code",
   "execution_count": null,
   "id": "86cf43f2",
   "metadata": {},
   "outputs": [],
   "source": [
    "# Write your code below"
   ]
  },
  {
   "cell_type": "markdown",
   "id": "e7d2761c",
   "metadata": {},
   "source": [
    "### Task 5\n",
    "Access and print ratings from index 1 to 3 in `ratings` (expected output: (3.0, 4.0, 5.0))."
   ]
  },
  {
   "cell_type": "code",
   "execution_count": null,
   "id": "1e620f16",
   "metadata": {},
   "outputs": [],
   "source": [
    "# Write your code below"
   ]
  },
  {
   "cell_type": "markdown",
   "id": "c63344c0",
   "metadata": {},
   "source": [
    "### Task 6\n",
    "Check if 4.0 exists in `ratings` and print the result (expected output: True)."
   ]
  },
  {
   "cell_type": "code",
   "execution_count": null,
   "id": "4b05304c",
   "metadata": {},
   "outputs": [],
   "source": [
    "# Write your code below"
   ]
  },
  {
   "cell_type": "markdown",
   "id": "5047bd11",
   "metadata": {},
   "source": [
    "### Task 7\n",
    "Change the second rating (3.0) of `ratings` to 3.5 by converting to a list and back to a tuple; then print the updated tuple."
   ]
  },
  {
   "cell_type": "code",
   "execution_count": null,
   "id": "63edd28b",
   "metadata": {},
   "outputs": [],
   "source": [
    "# Write your code below"
   ]
  },
  {
   "cell_type": "markdown",
   "id": "d213dff2",
   "metadata": {},
   "source": [
    "### Task 8\n",
    "Add a new rating 4.8 to `ratings` by concatenating with the tuple (4.8,); then print the new tuple."
   ]
  },
  {
   "cell_type": "code",
   "execution_count": null,
   "id": "f63121ba",
   "metadata": {},
   "outputs": [],
   "source": [
    "# Write your code below"
   ]
  },
  {
   "cell_type": "markdown",
   "id": "c0629a37",
   "metadata": {},
   "source": [
    "### Task 9\n",
    "Remove the rating 2.5 from `ratings` by converting it to a list, removing 2.5, and converting back to a tuple; then print the result."
   ]
  },
  {
   "cell_type": "code",
   "execution_count": null,
   "id": "a1afbd9f",
   "metadata": {},
   "outputs": [],
   "source": [
    "# Write your code below"
   ]
  },
  {
   "cell_type": "markdown",
   "id": "0b2bef5f",
   "metadata": {},
   "source": [
    "### Task 10\n",
    "Unpack `ratings` into variables and print them."
   ]
  },
  {
   "cell_type": "code",
   "execution_count": null,
   "id": "58cc5455",
   "metadata": {},
   "outputs": [],
   "source": [
    "# Write your code below"
   ]
  },
  {
   "cell_type": "markdown",
   "id": "9572edb9",
   "metadata": {},
   "source": [
    "### Task 11\n",
    "Loop through `ratings` using a for loop and print each rating."
   ]
  },
  {
   "cell_type": "code",
   "execution_count": null,
   "id": "c41b3e3d",
   "metadata": {},
   "outputs": [],
   "source": [
    "# Write your code below"
   ]
  },
  {
   "cell_type": "markdown",
   "id": "54f1825d",
   "metadata": {},
   "source": [
    "### Task 12\n",
    "Loop through `ratings` using range() and print each index and rating."
   ]
  },
  {
   "cell_type": "code",
   "execution_count": null,
   "id": "d0ddc57c",
   "metadata": {},
   "outputs": [],
   "source": [
    "# Write your code below"
   ]
  },
  {
   "cell_type": "markdown",
   "id": "558c8b71",
   "metadata": {},
   "source": [
    "### Task 13\n",
    "Join `ratings` with the tuple (1.0, 1.5) and print the resulting tuple."
   ]
  },
  {
   "cell_type": "code",
   "execution_count": null,
   "id": "82404285",
   "metadata": {},
   "outputs": [],
   "source": [
    "# Write your code below"
   ]
  }
 ],
 "metadata": {},
 "nbformat": 4,
 "nbformat_minor": 5
}
